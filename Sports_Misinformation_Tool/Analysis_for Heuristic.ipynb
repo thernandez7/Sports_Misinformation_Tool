{
 "cells": [
  {
   "cell_type": "code",
   "execution_count": 9,
   "id": "c25f24ba-ec83-4a12-b5a7-e3127cd02496",
   "metadata": {},
   "outputs": [],
   "source": [
    "import pandas as pd\n",
    "\n",
    "false_headlines=[\n",
    "    \"Fox Sports Cancels ALL NFL Broadcasts 'Until Players Respect the Flag'\",\n",
    "    \"Police Officer Who Pulled Over Tyreek Hill Had 'Bills Mafia' as His LinkedIn Background\",\n",
    "    \"Did Tom Brady Say the NBA Finals Were Rigged\",\n",
    "    \"'Fewer people get hurt playing rugby' than American football.\",\n",
    "    \"News organizations and sponsors ignored the accomplishments of Kim Rhode, a six-time Olympic medalist, because of her support of the Second Amendment.\",\n",
    "    \"Novak Djokovic is the first professional athlete to be banned from a major sporting event for 'not taking drugs.'\",\n",
    "    \"'ESPN has fired Shannon Sharpe.'\",\n",
    "    \"The Minnesota Vikings have denounced Tim Walz: 'We don’t suppᴏrt his values.'\",\n",
    "    \"'Breaking: WNBA referees disqualify players under league's new 'no anthem kneeling' rule.'\",\n",
    "    \"'Nike announces termination of contract with Brittney Griner after ‘strong backlash’ from online community.'\",\n",
    "    \"'All students who knelt during the national anthem were rounded up and removed from scholarships' at the University of Texas.\",\n",
    "    \"'Travis Kelce kneels during national anthem fined $10 million and thrown out of the game.'\",\n",
    "   \n",
    "    \"The NFL will now use facial recognition at every stadium to verify the identity of everyone at the game.\",\n",
    "    \"Mike Tyson says he’s willing to box Olympic DUDE with all proceeds to go to a battered women’s charity.\",\n",
    "    \"After winning silver, Yusef stood emotionless on the Olympic podium and declared, 'Sharon, if you’re watching this, I want my dog back.'\",\n",
    "    \"Miami Dolphins QB Tua Tagovailoa will be sitting front row tonight in Doral for the Trump speech\",\n",
    "    \"BREAKING: The WNBA organizers have officially announced an investigation into the referees in all of Caitlin Clark's games for ignoring all dirty actions by her opponents against her\",\n",
    "    \"Chiefs' Coach Andy Reid 'fires 3 top players for anthem kneeling.'\",\n",
    "    \"BREAKING: Caitlin Clark Rejects $400 Million Deal From Nike, 'Not With That Kaepernick Clown,'\",\n",
    "    \"At Euro 2020, UEFA (European Football Association) ordered all team captains to wear ‘OneLove’ bands. The band was used as a symbol of LGBTQ. But, Portugal captain Cristiano Ronaldo was the only European captain who did not wear the band.\",\n",
    "    \"Golden State Warriors refuse to visit White House after winning NBA title: reports\",\n",
    "    \"Taylor Swift faces a 10-game NFL ban following controversial political involvement — fans in uproar!\"\n",
    "]\n",
    "true_headlines=[\n",
    "    \"Soccer Team Scores on Itself to Win Cup Match\",\n",
    "    \"Breakdancing Won't Be Part of 2028 Los Angeles Olympics\",\n",
    "    \"'Research performed by economists has shown no consistent, positive impact on jobs, income or tax revenues arising from stadiums or sports franchises.'\",\n",
    "    \"The Atlanta Braves are 'the oldest continuously operating professional sports franchise in America.'\",\n",
    "    \"Only 20 colleges and universities 'have athletic departments with revenue exceeding expenses.'\",\n",
    "    \"\",\n",
    "    \"\",\n",
    "    \"\",\n",
    "    \"\",\n",
    "    \"\",\n",
    "    \"\",\n",
    "    \"\",\n",
    "    \"\",\n",
    "    \"\",\n",
    "    \"\",\n",
    "    \"\",\n",
    "    \n",
    "]\n",
    "\n"
   ]
  },
  {
   "cell_type": "code",
   "execution_count": null,
   "id": "fccce79c-2094-403f-bd04-96165e7b57ad",
   "metadata": {},
   "outputs": [],
   "source": []
  }
 ],
 "metadata": {
  "kernelspec": {
   "display_name": "Python 3 (ipykernel)",
   "language": "python",
   "name": "python3"
  },
  "language_info": {
   "codemirror_mode": {
    "name": "ipython",
    "version": 3
   },
   "file_extension": ".py",
   "mimetype": "text/x-python",
   "name": "python",
   "nbconvert_exporter": "python",
   "pygments_lexer": "ipython3",
   "version": "3.12.4"
  }
 },
 "nbformat": 4,
 "nbformat_minor": 5
}
