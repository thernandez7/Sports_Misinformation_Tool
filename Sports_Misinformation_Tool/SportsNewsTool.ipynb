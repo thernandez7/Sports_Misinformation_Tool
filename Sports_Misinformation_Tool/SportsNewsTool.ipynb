{
 "cells": [
  {
   "cell_type": "code",
   "execution_count": 130,
   "id": "72517dfa-1720-49e6-b55a-f15cdf181498",
   "metadata": {},
   "outputs": [
    {
     "name": "stderr",
     "output_type": "stream",
     "text": [
      "warning: in the working copy of 'Sports_Misinformation_Tool/SportsNewsTool.ipynb', LF will be replaced by CRLF the next time Git touches it\n"
     ]
    },
    {
     "name": "stdout",
     "output_type": "stream",
     "text": [
      "[main 440484f] Changed DB classification field\n",
      " 1 file changed, 6 insertions(+), 6 deletions(-)\n",
      "Already up to date.\n",
      "branch 'main' set up to track 'origin/main'.\n"
     ]
    },
    {
     "name": "stderr",
     "output_type": "stream",
     "text": [
      "To github.com:thernandez7/Sports_Misinformation_Tool.git\n",
      "   660e1c2..440484f  main -> main\n"
     ]
    }
   ],
   "source": [
    "# !git add .\n",
    "# !git commit -m \"Changed DB classification field\"\n",
    "# !git pull\n",
    "# !git push -u origin main"
   ]
  },
  {
   "cell_type": "markdown",
   "id": "8446acb8-a93e-418e-a0ec-3ef05f7389b8",
   "metadata": {},
   "source": [
    "## Sports Misinformation Classification Tool"
   ]
  },
  {
   "cell_type": "markdown",
   "id": "a82e525a-1cf9-47be-8298-238a25ce2667",
   "metadata": {},
   "source": [
    "### Connect to the Database"
   ]
  },
  {
   "cell_type": "code",
   "execution_count": 67,
   "id": "065e181a-e5fd-4418-8be0-3378790be6ea",
   "metadata": {},
   "outputs": [
    {
     "name": "stdout",
     "output_type": "stream",
     "text": [
      "Connected to the database successfully!\n"
     ]
    }
   ],
   "source": [
    "import mysql.connector\n",
    "from sqlalchemy import create_engine\n",
    "import pandas as pd\n",
    "\n",
    "username = 'root'  \n",
    "password = 'password'\n",
    "host = 'localhost' \n",
    "database = 'sports_news_db'\n",
    "\n",
    "connection = mysql.connector.connect(\n",
    "    host=host,\n",
    "    user=username,\n",
    "    password=password,\n",
    "    database=database\n",
    ")\n",
    "\n",
    "if connection.is_connected():\n",
    "    print(\"Connected to the database successfully!\")\n",
    "\n",
    "engine = create_engine(f\"mysql+mysqlconnector://{username}:{password}@{host}/{database}\", echo=False)"
   ]
  },
  {
   "attachments": {},
   "cell_type": "markdown",
   "id": "70ed146f-9fe7-4370-a3d2-898811f3e183",
   "metadata": {},
   "source": [
    "#### Use this format to insert into the database\n",
    "\n",
    "INSERT INTO articles (team_or_player, source, publication_date, content, trust_score, classification, link)\n",
    "VALUES\n",
    "('New York Yankees, Los Angeles Lakers', 'ESPN', '2024-10-27', 'Yankees article content example.', 85.00, 'real', 'https://example.com/article1'),\n",
    "('Los Angeles Lakers', 'Twitter', '2024-10-27', 'Lakers article content example.', 60.00, 'fake', 'https://example.com/article2');\n",
    "\n",
    "\n",
    "#### Table fields \n",
    "Table Name: articles\n",
    "\n",
    "Fields: \n",
    "\n",
    "     id INT AUTO_INCREMENT PRIMARY KEY,\n",
    "     \n",
    "     team_or_player VARCHAR(500), (This will be the article title that we can query- usually includes teams or names in it)\n",
    "     \n",
    "     source VARCHAR(200),\n",
    "     \n",
    "     publication_date DATE,\n",
    "     \n",
    "     content TEXT,\n",
    "     \n",
    "     trust_score DECIMAL(5, 2), \n",
    "     \n",
    "     classification ENUM('credible', 'uncredible', 'unknown') DEFAULT 'unknown',\n",
    "\n",
    "     link VARCHAR(255)"
   ]
  },
  {
   "cell_type": "markdown",
   "id": "359168cc-f336-4972-b580-38575b45a13e",
   "metadata": {},
   "source": [
    "### Simulate Tool Working"
   ]
  },
  {
   "cell_type": "code",
   "execution_count": 118,
   "id": "9687e8d1-8c66-4df1-80cf-4bcf6f33805c",
   "metadata": {},
   "outputs": [
    {
     "name": "stdin",
     "output_type": "stream",
     "text": [
      "Enter the team or player's name:  x\n"
     ]
    },
    {
     "name": "stdout",
     "output_type": "stream",
     "text": [
      "No articles found for x.\n"
     ]
    }
   ],
   "source": [
    "team_or_player = input(\"Enter the team or player's name: \")\n",
    "\n",
    "query = f\"SELECT * FROM articles WHERE team_or_player LIKE '%{team_or_player}%'\" #search for entered name/team in the title \n",
    "df_result = pd.read_sql(query, con=engine, params={'team_or_player': team_or_player})\n",
    "\n",
    "#get results\n",
    "if not df_result.empty:\n",
    "    print(f\"Articles related to {team_or_player}:\")\n",
    "    display(df_result)\n",
    "else:\n",
    "    print(f\"No articles found for {team_or_player}.\")"
   ]
  },
  {
   "cell_type": "markdown",
   "id": "c1cee353-47af-48c3-a0eb-cf19ddcbc995",
   "metadata": {},
   "source": [
    "### Get Article Entries from RSS Feeds-- \\*not continuous*"
   ]
  },
  {
   "cell_type": "code",
   "execution_count": 134,
   "id": "06ea0136-a9b1-4fac-94f6-1949deec9361",
   "metadata": {},
   "outputs": [],
   "source": [
    "\n",
    "# # reddit API - collected 1876 posts\n",
    "# import csv\n",
    "# import praw\n",
    "# from datetime import datetime\n",
    "\n",
    "\n",
    "# reddit = praw.Reddit(\n",
    "#     client_id='w-kwRyPigyjYeG9DOiDc8g', \n",
    "#     client_secret='ZeDsvNH2YlpVH7F9wEWPkt5wkjLzqA',  \n",
    "#     user_agent='sports_misinfo_script'  \n",
    "# )\n",
    "\n",
    "# subreddit = reddit.subreddit('sports+fantasyfootball') #2 subreddits \n",
    "\n",
    "# recent_posts = []\n",
    "# for post in subreddit.new(limit= 5000):\n",
    "#     created_date = datetime.utcfromtimestamp(post.created_utc).strftime('%Y-%m-%d %H:%M:%S')\n",
    "#     recent_posts.append({\n",
    "#         'title': post.title,\n",
    "#         'score': post.score,\n",
    "#         'url': post.url,\n",
    "#         'id': post.id,\n",
    "#         'author': str(post.author),\n",
    "#         'text': post.selftext,\n",
    "#         'created_date': created_date,\n",
    "#         'num_comments': post.num_comments,\n",
    "#         'subreddit': post.subreddit.display_name,\n",
    "\n",
    "#     })\n",
    "\n",
    "# print(f\"Fetched {len(recent_posts)} posts\")\n",
    "\n",
    "# for i, post in enumerate(recent_posts[:5]):\n",
    "#     print(f\"{i+1}. Title: {post['title']} | Score: {post['score']} | URL: {post['url']}\")\n",
    "\n",
    "\n",
    "# #-------------------------------\n",
    "# #Save the data to a csv file\n",
    "# fieldnames = ['title', 'score', 'url', 'id', 'author', 'text', 'created_date', 'num_comments', 'subreddit']\n",
    "\n",
    "# with open('recent_sports_reddit_posts.csv', mode='w', newline='', encoding='utf-8') as csv_file:\n",
    "#     writer = csv.DictWriter(csv_file, fieldnames=fieldnames)\n",
    "\n",
    "#     writer.writeheader()\n",
    "\n",
    "#     for post in recent_posts:\n",
    "#         writer.writerow(post)\n",
    "\n",
    "# print(\"Data successfully saved to 'recent_sports_reddit_posts.csv'\")\n",
    "# print(\"Data saved\")\n"
   ]
  },
  {
   "cell_type": "code",
   "execution_count": 144,
   "id": "07799dec-fde1-4a46-9931-acdc42bcf15b",
   "metadata": {
    "scrolled": true
   },
   "outputs": [
    {
     "name": "stdout",
     "output_type": "stream",
     "text": [
      "Failed to scrape content from https://www.espn.com/nfl/story/_/id/42310268/rams-jalen-ramsey-trade-first-domino-team-philosophy-change: 403 Client Error: Forbidden for url: https://www.espn.com/nfl/story/_/id/42310268/rams-jalen-ramsey-trade-first-domino-team-philosophy-change\n",
      "Failed to scrape content from https://www.espn.com/nfl/story/_/id/42315741/miami-dolphins-tyreek-hill-worst-season-2016: 403 Client Error: Forbidden for url: https://www.espn.com/nfl/story/_/id/42315741/miami-dolphins-tyreek-hill-worst-season-2016\n",
      "Failed to scrape content from https://www.espn.com/college-football/story/_/id/42329430/wisconsin-adviser-jack-del-rio-arrested-owi-crash: 403 Client Error: Forbidden for url: https://www.espn.com/college-football/story/_/id/42329430/wisconsin-adviser-jack-del-rio-arrested-owi-crash\n",
      "Failed to scrape content from https://www.espn.com/college-football/story/_/id/42334280/sec-fines-ole-miss-350k-lsu-250k-fan-incidents: 403 Client Error: Forbidden for url: https://www.espn.com/college-football/story/_/id/42334280/sec-fines-ole-miss-350k-lsu-250k-fan-incidents\n",
      "Failed to scrape content from https://www.espn.com/nfl/story/_/id/42333203/browns-jedrick-wills-jr-calls-recent-benching-pretty-shocking: 403 Client Error: Forbidden for url: https://www.espn.com/nfl/story/_/id/42333203/browns-jedrick-wills-jr-calls-recent-benching-pretty-shocking\n",
      "Failed to scrape content from https://www.espn.com/nfl/story/_/id/42332829/seahawks-waive-leading-tackler-tyrel-dodson: 403 Client Error: Forbidden for url: https://www.espn.com/nfl/story/_/id/42332829/seahawks-waive-leading-tackler-tyrel-dodson\n",
      "Failed to scrape content from https://www.espn.com/nfl/story/_/id/42327757/micah-parsons-feels-bad-zack-martin-cowboys-veterans: 403 Client Error: Forbidden for url: https://www.espn.com/nfl/story/_/id/42327757/micah-parsons-feels-bad-zack-martin-cowboys-veterans\n",
      "Failed to scrape content from https://www.espn.com/college-football/story/_/id/42331101/georgia-kirby-smart-jake-pope-celebrating-ole-miss-just-stupid: 403 Client Error: Forbidden for url: https://www.espn.com/college-football/story/_/id/42331101/georgia-kirby-smart-jake-pope-celebrating-ole-miss-just-stupid\n",
      "Failed to scrape content from https://www.espn.com/mlb/story/_/id/42327699/police-wander-franco-arrested-dr-altercation: 403 Client Error: Forbidden for url: https://www.espn.com/mlb/story/_/id/42327699/police-wander-franco-arrested-dr-altercation\n",
      "Failed to scrape content from https://www.espn.com/mens-college-basketball/story/_/id/42330200/kansas-no-1-ap-top-25-gonzaga-auburn-top-5: 403 Client Error: Forbidden for url: https://www.espn.com/mens-college-basketball/story/_/id/42330200/kansas-no-1-ap-top-25-gonzaga-auburn-top-5\n",
      "Failed to scrape content from https://www.espn.com/nba/story/_/id/42271118/the-tiny-town-legendary-1980s-nba-boston-celtics-team-built-cooper-flagg: 403 Client Error: Forbidden for url: https://www.espn.com/nba/story/_/id/42271118/the-tiny-town-legendary-1980s-nba-boston-celtics-team-built-cooper-flagg\n",
      "Failed to scrape content from https://www.espn.com/mlb/story/_/id/42319571/mlb-baseball-pete-rose-died-hall-fame-betting-gambling: 403 Client Error: Forbidden for url: https://www.espn.com/mlb/story/_/id/42319571/mlb-baseball-pete-rose-died-hall-fame-betting-gambling\n",
      "Failed to scrape content from https://www.espn.com/nfl/story/_/id/42318764/nfl-dallas-cowboys-jerry-jones-mike-mccartthy-hot-seat: 403 Client Error: Forbidden for url: https://www.espn.com/nfl/story/_/id/42318764/nfl-dallas-cowboys-jerry-jones-mike-mccartthy-hot-seat\n",
      "Failed to scrape content from https://www.espn.com/nfl/story/_/id/42248842/nfl-week-10-2024-questions-takeaways-lessons-stats-recap-every-game: 403 Client Error: Forbidden for url: https://www.espn.com/nfl/story/_/id/42248842/nfl-week-10-2024-questions-takeaways-lessons-stats-recap-every-game\n",
      "Failed to scrape content from https://www.espn.com/mma/story/_/id/42307556/ufc-309-daniel-cormier-breaks-jon-jones-vs-stipe-miocic-heavyweight-title-fight: 403 Client Error: Forbidden for url: https://www.espn.com/mma/story/_/id/42307556/ufc-309-daniel-cormier-breaks-jon-jones-vs-stipe-miocic-heavyweight-title-fight\n",
      "Failed to scrape content from https://www.espn.com/womens-college-basketball/story/_/id/42312963/ap-women-college-basketball-poll-reaction-next-top-25-team: 403 Client Error: Forbidden for url: https://www.espn.com/womens-college-basketball/story/_/id/42312963/ap-women-college-basketball-poll-reaction-next-top-25-team\n",
      "Failed to scrape content from https://www.espn.com/college-sports/story/_/id/42273737/college-athletes-face-national-signing-day-amid-uncertainty-new-roster-limits: 403 Client Error: Forbidden for url: https://www.espn.com/college-sports/story/_/id/42273737/college-athletes-face-national-signing-day-amid-uncertainty-new-roster-limits\n",
      "Failed to scrape content from https://www.espn.com/soccer/story/_/id/42323800/manchester-city-pep-guardiola-slump-real-madrid-eder-militao-chelsea-arsenal-liverpool-marcotti: 403 Client Error: Forbidden for url: https://www.espn.com/soccer/story/_/id/42323800/manchester-city-pep-guardiola-slump-real-madrid-eder-militao-chelsea-arsenal-liverpool-marcotti\n",
      "Failed to scrape content from https://www.espn.com/soccer/story/_/id/42264501/the-var-review-bailey-red-card-mohamed-salah-wolves-get-lucky: 403 Client Error: Forbidden for url: https://www.espn.com/soccer/story/_/id/42264501/the-var-review-bailey-red-card-mohamed-salah-wolves-get-lucky\n",
      "Failed to scrape content from https://www.espn.com/soccer/story/_/id/42329281/ruud-van-nistelrooy-leaves-man-united-ruben-amorim-arrival: 403 Client Error: Forbidden for url: https://www.espn.com/soccer/story/_/id/42329281/ruud-van-nistelrooy-leaves-man-united-ruben-amorim-arrival\n",
      "Failed to scrape content from https://www.espn.com/soccer/story/_/id/42327274/premier-league-ref-david-coote-suspended-jurgen-klopp-outburst: 403 Client Error: Forbidden for url: https://www.espn.com/soccer/story/_/id/42327274/premier-league-ref-david-coote-suspended-jurgen-klopp-outburst\n",
      "Failed to scrape content from https://www.espn.com/soccer/story/_/id/42331160/saka-palmer-8-players-pull-england-squad: 403 Client Error: Forbidden for url: https://www.espn.com/soccer/story/_/id/42331160/saka-palmer-8-players-pull-england-squad\n",
      "Failed to scrape content from https://www.espn.com/soccer/story/_/id/42329599/man-city-ruben-dias-goads-doubters-4-game-slump: 403 Client Error: Forbidden for url: https://www.espn.com/soccer/story/_/id/42329599/man-city-ruben-dias-goads-doubters-4-game-slump\n",
      "Failed to scrape content from https://www.espn.com/soccer/story/_/id/42322336/ruben-amorim-im-not-naive-man-united-job-difficult: 403 Client Error: Forbidden for url: https://www.espn.com/soccer/story/_/id/42322336/ruben-amorim-im-not-naive-man-united-job-difficult\n",
      "Failed to scrape content from https://www.espn.com/soccer/story/_/id/42328732/lionel-messi-inter-miami-come-back-stronger-next-year: 403 Client Error: Forbidden for url: https://www.espn.com/soccer/story/_/id/42328732/lionel-messi-inter-miami-come-back-stronger-next-year\n",
      "Failed to scrape content from https://www.espn.com/soccer/story/_/id/42328615/lily-yohannes-opts-represent-united-states-netherlands: 403 Client Error: Forbidden for url: https://www.espn.com/soccer/story/_/id/42328615/lily-yohannes-opts-represent-united-states-netherlands\n",
      "Failed to scrape content from https://www.espn.com/soccer/story/_/id/42324034/former-turkish-club-chief-imprisoned-punching-referee: 403 Client Error: Forbidden for url: https://www.espn.com/soccer/story/_/id/42324034/former-turkish-club-chief-imprisoned-punching-referee\n",
      "Failed to scrape content from https://www.espn.com/soccer/story/_/id/42328169/mls-cup-playoffs-round-one-sees-lafc-la-galaxy-emerge-favorites-inter-miami-eliminated: 403 Client Error: Forbidden for url: https://www.espn.com/soccer/story/_/id/42328169/mls-cup-playoffs-round-one-sees-lafc-la-galaxy-emerge-favorites-inter-miami-eliminated\n",
      "Failed to scrape content from https://www.espn.com/soccer/story/_/id/42327290/where-inter-miamis-2024-ranks-mls-best-seasons-all: 403 Client Error: Forbidden for url: https://www.espn.com/soccer/story/_/id/42327290/where-inter-miamis-2024-ranks-mls-best-seasons-all\n",
      "Failed to scrape content from https://www.espn.com/soccer/story/_/id/42313725/forget-stars-njny-gotham-fcs-depth-key: 403 Client Error: Forbidden for url: https://www.espn.com/soccer/story/_/id/42313725/forget-stars-njny-gotham-fcs-depth-key\n",
      "Failed to scrape content from https://www.espn.com/mlb/story/_/id/42269240/world-series-alternate-history-no-1-seeds-2012-2024: 403 Client Error: Forbidden for url: https://www.espn.com/mlb/story/_/id/42269240/world-series-alternate-history-no-1-seeds-2012-2024\n",
      "Failed to scrape content from https://www.espn.com/fantasy/football/story/_/page/FFWaiverWirePickUp-41134281/nfl-fantasy-football-free-agent-pickups-waiver-wire-2024-week-11: 403 Client Error: Forbidden for url: https://www.espn.com/fantasy/football/story/_/page/FFWaiverWirePickUp-41134281/nfl-fantasy-football-free-agent-pickups-waiver-wire-2024-week-11\n",
      "Failed to scrape content from https://www.espn.com/fantasy/football/story/_/id/42316490/fantasy-football-2024-week-10-rookies-bo-nix-bucky-irving-marvin-harrison-jr-tyrone-tracy-jr: 403 Client Error: Forbidden for url: https://www.espn.com/fantasy/football/story/_/id/42316490/fantasy-football-2024-week-10-rookies-bo-nix-bucky-irving-marvin-harrison-jr-tyrone-tracy-jr\n",
      "Failed to scrape content from https://www.espn.com/nfl/story/_/id/42313907/nfl-week-10-trolls: 403 Client Error: Forbidden for url: https://www.espn.com/nfl/story/_/id/42313907/nfl-week-10-trolls\n",
      "Failed to scrape content from https://www.espn.com/nfl/story/_/id/42312433/detroit-lions-shaboozey-thanksgiving-half-show: 403 Client Error: Forbidden for url: https://www.espn.com/nfl/story/_/id/42312433/detroit-lions-shaboozey-thanksgiving-half-show\n",
      "Failed to scrape content from https://www.espn.com/racing/nascar/story/_/id/42331236/forget-playoff-format-joey-logano-three-nascar-champ: 403 Client Error: Forbidden for url: https://www.espn.com/racing/nascar/story/_/id/42331236/forget-playoff-format-joey-logano-three-nascar-champ\n",
      "Failed to scrape content from https://www.espn.com/espn/betting/story/_/id/40159558/betting-buzz-latest-sports-betting-odds-updates-changes-line-moves-industry-intel: 403 Client Error: Forbidden for url: https://www.espn.com/espn/betting/story/_/id/40159558/betting-buzz-latest-sports-betting-odds-updates-changes-line-moves-industry-intel\n",
      "Failed to scrape content from https://www.espn.com/espn/betting/story/_/id/42328819/2024-nfl-week-11-betting-first-look-odds-lines-picks: 403 Client Error: Forbidden for url: https://www.espn.com/espn/betting/story/_/id/42328819/2024-nfl-week-11-betting-first-look-odds-lines-picks\n",
      "Failed to scrape content from https://www.espn.com/soccer/story/_/id/42315362/soccer-transfer-rumors-news-joshua-zirkzee-leave-manchester-united-already: 403 Client Error: Forbidden for url: https://www.espn.com/soccer/story/_/id/42315362/soccer-transfer-rumors-news-joshua-zirkzee-leave-manchester-united-already\n",
      "               feed_title                                        entry_title  \\\n",
      "0      FOX Sports Digital  Do the Bears have a Caleb Williams problem? | ...   \n",
      "1      FOX Sports Digital  Bears mulling over whether to fire offensive c...   \n",
      "2      FOX Sports Digital  Giants will 'evaluate' Daniel Jones, QB situat...   \n",
      "3      FOX Sports Digital  How confident should people be in the Chiefs? ...   \n",
      "4      FOX Sports Digital  Is Caleb Williams' struggles due to a lack of ...   \n",
      "..                    ...                                                ...   \n",
      "381  SportsLogos.Net News  NFL Week 9 Uniform Schedule: Giants, Eagles, P...   \n",
      "382  SportsLogos.Net News  QMJHL’s Quebec Remparts Pay Homage to Beloved ...   \n",
      "383  SportsLogos.Net News  Oregon Ducks Unveil Final “Generation O” Unifo...   \n",
      "384  SportsLogos.Net News  Illinois Fighting Illini Unveil Military Appre...   \n",
      "385  SportsLogos.Net News             Dodgers Set World Series Sales Records   \n",
      "\n",
      "                                            entry_link  \\\n",
      "0    https://www.foxsports.com/watch/fmc-xhtnflwidi...   \n",
      "1    https://www.foxsports.com/stories/nfl/bears-mu...   \n",
      "2    https://www.foxsports.com/stories/nfl/giants-w...   \n",
      "3    https://www.foxsports.com/watch/fmc-wgoz5yzdpi...   \n",
      "4    https://www.foxsports.com/watch/fmc-wwleedz7ia...   \n",
      "..                                                 ...   \n",
      "381  https://news.sportslogos.net/2024/11/03/nfl-we...   \n",
      "382  https://news.sportslogos.net/2024/11/02/qmjhls...   \n",
      "383  https://news.sportslogos.net/2024/11/02/oregon...   \n",
      "384  https://news.sportslogos.net/2024/11/02/illino...   \n",
      "385  https://news.sportslogos.net/2024/11/01/dodger...   \n",
      "\n",
      "                entry_published_date  \\\n",
      "0    Tue, 12 Nov 2024 00:02:24 +0000   \n",
      "1    Mon, 11 Nov 2024 17:59:13 -0500   \n",
      "2    Mon, 11 Nov 2024 16:46:29 -0500   \n",
      "3    Mon, 11 Nov 2024 21:32:52 +0000   \n",
      "4    Mon, 11 Nov 2024 21:19:12 +0000   \n",
      "..                               ...   \n",
      "381  Sun, 03 Nov 2024 16:25:35 +0000   \n",
      "382  Sat, 02 Nov 2024 15:00:00 +0000   \n",
      "383  Sat, 02 Nov 2024 05:03:33 +0000   \n",
      "384  Sat, 02 Nov 2024 04:02:08 +0000   \n",
      "385  Fri, 01 Nov 2024 19:22:21 +0000   \n",
      "\n",
      "                                         entry_summary  \\\n",
      "0    Nick Wright, Chris Broussard, Kevin Wildes, an...   \n",
      "1    The Bears are mulling whether to fire offensiv...   \n",
      "2    The Giants plan to make improvements during th...   \n",
      "3    The Kansas City Chiefs remain undefeated after...   \n",
      "4    Albert Breer joins Colin Cowherd to discuss wh...   \n",
      "..                                                 ...   \n",
      "381  Our weekly series that looks at every uniform ...   \n",
      "382  Jerseys worn Friday vs. Sherbrooke Phoenix ins...   \n",
      "383  Oregon unveiled the fifth and final combinatio...   \n",
      "384  Illinois will wear a special helmet design dur...   \n",
      "385  The Los Angeles Dodgers set a series of mercha...   \n",
      "\n",
      "                                         entry_content  \n",
      "0                                     No content found  \n",
      "1                                     No content found  \n",
      "2                                     No content found  \n",
      "3                                     No content found  \n",
      "4                                     No content found  \n",
      "..                                                 ...  \n",
      "381  The midway point of the 2024-25 season is here...  \n",
      "382  The Quebec Remparts paid homage to one of thei...  \n",
      "383  The Oregon football program unveiled the fifth...  \n",
      "384  The Illinois football program will wear a spec...  \n",
      "385  The Los Angeles Dodgers’ string of success did...  \n",
      "\n",
      "[386 rows x 6 columns]\n"
     ]
    }
   ],
   "source": [
    "import feedparser\n",
    "import requests\n",
    "from bs4 import BeautifulSoup\n",
    "\n",
    "#add urls to this list to parse\n",
    "url_list = [\n",
    "        \"https://api.foxsports.com/v2/content/optimized-rss?partnerKey=MB0Wehpmuj2lUhuRhQaafhBjAJqaPU244mlTDK1i&size=30&tags=fs/nfl\",#fox NFL\n",
    "        \"https://api.foxsports.com/v2/content/optimized-rss?partnerKey=MB0Wehpmuj2lUhuRhQaafhBjAJqaPU244mlTDK1i&size=30\", #fox MLB\n",
    "        \"https://api.foxsports.com/v2/content/optimized-rss?partnerKey=MB0Wehpmuj2lUhuRhQaafhBjAJqaPU244mlTDK1i&size=30&tags=fs/nba\", #fox NBA\n",
    "        \"https://www.sportscollectorsdaily.com/feed/\", #Sports Collectors Daily \n",
    "        \"https://www.espn.com/espn/rss/news\", #ESPN top headlines\n",
    "        \"https://deadspin.com/rss/\", #Deadspin \n",
    "        \"https://news.sportslogos.net/feed/\", #SportsLogos.Net\n",
    "    \n",
    "]\n",
    "    \n",
    "entries = [] #list of dictionaries\n",
    "\n",
    "#--------------DEFINE FUNCTION TO SCRAPE-------------------\n",
    "def scrape_article_content(url):\n",
    "    try:\n",
    "        response = requests.get(url, timeout=10)\n",
    "        response.raise_for_status()\n",
    "        soup = BeautifulSoup(response.content, \"html.parser\")\n",
    "\n",
    "        #extract content from common tags (e.g., paragraphs, article body)\n",
    "        article_body = (\n",
    "            soup.find(\"article\") or\n",
    "            soup.find(\"div\", {\"class\": \"post-content\"}) or\n",
    "            soup.find(\"div\", class_=\"article-body\") or\n",
    "            soup.find(\"div\", class_=\"article-content\") or\n",
    "            soup.find(\"section\", class_=\"article-section\") or\n",
    "            soup.find(\"div\", class_=\"main-content\") or\n",
    "            soup.find(\"div\", class_=\"content-body\")\n",
    "        )\n",
    "        \n",
    "        if article_body:\n",
    "            paragraphs = article_body.find_all(\"p\")\n",
    "        else:\n",
    "            paragraphs = soup.find_all(\"p\")\n",
    "\n",
    "        #join all paragraphs into a single string\n",
    "        article_content = \" \".join(p.get_text() for p in paragraphs)\n",
    "        return article_content.strip() if article_content else \"No content found\"\n",
    "\n",
    "    except Exception as e:\n",
    "        print(f\"Failed to scrape content from {url}: {e}\")\n",
    "        return \"Failed to fetch content\"\n",
    "\n",
    "\n",
    "\n",
    "\n",
    "for url in url_list:\n",
    "    feed = feedparser.parse(url)\n",
    "    feed_title= feed.feed.title\n",
    "    \n",
    "    for entry in feed.entries:\n",
    "        entry_title= entry.title\n",
    "        entry_link= entry.link\n",
    "        entry_published_date= entry.published\n",
    "        entry_summary= entry.summary\n",
    "        entry_content = scrape_article_content(entry_link) #scrape\n",
    "        \n",
    "        entries.append({\n",
    "            \"feed_title\": feed_title,\n",
    "            \"entry_title\": entry_title,\n",
    "            \"entry_link\": entry_link,\n",
    "            \"entry_published_date\": entry_published_date,\n",
    "            \"entry_summary\": entry_summary,\n",
    "            \"entry_content\": entry_content,\n",
    "        })\n",
    "\n",
    "df = pd.DataFrame(entries)\n",
    "print(df)\n",
    "\n",
    "df.to_csv('RSS_sports_feeds.csv', index=False)"
   ]
  },
  {
   "cell_type": "code",
   "execution_count": 113,
   "id": "9fd113b7-87d3-42fc-a1ec-ffaa85aeddf9",
   "metadata": {},
   "outputs": [],
   "source": [
    "#if we want to get contents of whole article we would need to scrape it \n",
    " \n",
    " \n",
    " \n",
    " "
   ]
  },
  {
   "cell_type": "markdown",
   "id": "f4f53448-164e-46d8-a16d-02c3dbaa7d0c",
   "metadata": {},
   "source": [
    "### Format DF to match DB table"
   ]
  },
  {
   "cell_type": "code",
   "execution_count": 123,
   "id": "b6b1163a-ce9f-47f0-9c15-d7e5cceaf6e9",
   "metadata": {},
   "outputs": [
    {
     "name": "stdout",
     "output_type": "stream",
     "text": [
      "done\n"
     ]
    },
    {
     "name": "stderr",
     "output_type": "stream",
     "text": [
      "C:\\Users\\tizia\\Anaconda4\\Lib\\site-packages\\dateutil\\parser\\_parser.py:1207: UnknownTimezoneWarning: tzname EST identified but not understood.  Pass `tzinfos` argument in order to correctly return a timezone-aware datetime.  In a future version, this will raise an exception.\n",
      "  warnings.warn(\"tzname {tzname} identified but not understood.  \"\n"
     ]
    }
   ],
   "source": [
    "from datetime import datetime\n",
    "from dateutil import parser\n",
    "\n",
    "df['publication_date'] = df['entry_published_date'].apply(lambda x: parser.parse(x).date()) #parse different date formats to date object format\n",
    "dbdf = pd.read_csv('RSS_sports_feeds.csv')\n",
    "dbdf['team_or_player'] = df['entry_title']\n",
    "dbdf['source'] = df['feed_title']\n",
    "dbdf['publication_date'] = df['publication_date'] \n",
    "dbdf['content'] = df['entry_summary']\n",
    "dbdf['trust_score'] = 0.00  #default\n",
    "dbdf['classification'] = 'unknown' #default\n",
    "dbdf['link'] = df['entry_link']\n",
    "\n",
    "#make a new df in the format of the DB table for easy inserting\n",
    "sports_DB_df = dbdf[['team_or_player', 'source', 'publication_date', 'content', 'trust_score', 'classification', 'link']]\n",
    "#save to a new CSV \n",
    "sports_DB_df.to_csv('formatted_sports_posts_for_DB.csv', index=False)\n",
    "print(\"done\")"
   ]
  },
  {
   "cell_type": "markdown",
   "id": "c282d88e-3a8a-4283-af31-f011ec789135",
   "metadata": {},
   "source": [
    "## Define labeling approach to get classification and trust score to update sports_DB_df with ground truths"
   ]
  }
 ],
 "metadata": {
  "kernelspec": {
   "display_name": "Python 3 (ipykernel)",
   "language": "python",
   "name": "python3"
  },
  "language_info": {
   "codemirror_mode": {
    "name": "ipython",
    "version": 3
   },
   "file_extension": ".py",
   "mimetype": "text/x-python",
   "name": "python",
   "nbconvert_exporter": "python",
   "pygments_lexer": "ipython3",
   "version": "3.12.4"
  }
 },
 "nbformat": 4,
 "nbformat_minor": 5
}
