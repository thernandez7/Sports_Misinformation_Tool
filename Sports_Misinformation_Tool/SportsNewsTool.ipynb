{
 "cells": [
  {
   "cell_type": "markdown",
   "id": "8446acb8-a93e-418e-a0ec-3ef05f7389b8",
   "metadata": {},
   "source": [
    "## Sports Misinformation Classification Tool"
   ]
  },
  {
   "cell_type": "markdown",
   "id": "a82e525a-1cf9-47be-8298-238a25ce2667",
   "metadata": {},
   "source": [
    "### Connect to the Database"
   ]
  },
  {
   "cell_type": "code",
   "execution_count": 21,
   "id": "065e181a-e5fd-4418-8be0-3378790be6ea",
   "metadata": {},
   "outputs": [
    {
     "name": "stdout",
     "output_type": "stream",
     "text": [
      "Connected to the database successfully!\n"
     ]
    }
   ],
   "source": [
    "import mysql.connector\n",
    "from sqlalchemy import create_engine\n",
    "import pandas as pd\n",
    "\n",
    "username = 'root'  \n",
    "password = 'password'\n",
    "host = 'localhost' \n",
    "database = 'sports_news_db'\n",
    "\n",
    "connection = mysql.connector.connect(\n",
    "    host=host,\n",
    "    user=username,\n",
    "    password=password,\n",
    "    database=database\n",
    ")\n",
    "\n",
    "if connection.is_connected():\n",
    "    print(\"Connected to the database successfully!\")\n",
    "\n",
    "engine = create_engine(f\"mysql+mysqlconnector://{username}:{password}@{host}/{database}\", echo=False)"
   ]
  },
  {
   "attachments": {},
   "cell_type": "markdown",
   "id": "70ed146f-9fe7-4370-a3d2-898811f3e183",
   "metadata": {},
   "source": [
    "### Use this format to insert into the database\n",
    "\n",
    "INSERT INTO articles (team_or_player, source, publication_date, content, trust_score, classification, link)\n",
    "VALUES\n",
    "('New York Yankees, Los Angeles Lakers', 'ESPN', '2024-10-27', 'Yankees article content example.', 85.00, 'real', 'https://example.com/article1'),\n",
    "('Los Angeles Lakers', 'Twitter', '2024-10-27', 'Lakers article content example.', 60.00, 'fake', 'https://example.com/article2');\n",
    "\n",
    "\n",
    "#### Table fields \n",
    "Table Name: articles\n",
    "\n",
    "Fields: \n",
    "\n",
    "     id INT AUTO_INCREMENT PRIMARY KEY,\n",
    "     \n",
    "     team_or_player VARCHAR(200), (This can be a string of comma-separated values)\n",
    "     \n",
    "     source VARCHAR(200),\n",
    "     \n",
    "     publication_date DATE,\n",
    "     \n",
    "     content TEXT,\n",
    "     \n",
    "     trust_score DECIMAL(5, 2), \n",
    "     \n",
    "     classification ENUM('real', 'fake', 'unknown') DEFAULT 'unknown',\n",
    "\n",
    "     link VARCHAR(255)"
   ]
  },
  {
   "cell_type": "markdown",
   "id": "359168cc-f336-4972-b580-38575b45a13e",
   "metadata": {},
   "source": [
    "### Simulate Tool Working"
   ]
  },
  {
   "cell_type": "code",
   "execution_count": null,
   "id": "9687e8d1-8c66-4df1-80cf-4bcf6f33805c",
   "metadata": {},
   "outputs": [],
   "source": [
    "team_or_player = input(\"Enter the team or player's name: \")\n",
    "\n",
    "query = f\"SELECT * FROM articles WHERE FIND_IN_SET('{team_or_player}', team_or_player) > 0\"\n",
    "df_result = pd.read_sql(query, con=engine, params={'team_or_player': team_or_player})\n",
    "\n",
    "#get results\n",
    "if not df_result.empty:\n",
    "    print(f\"Articles related to {team_or_player}:\")\n",
    "    display(df_result)\n",
    "else:\n",
    "    print(f\"No articles found for {team_or_player}.\")"
   ]
  },
  {
   "cell_type": "markdown",
   "id": "c1cee353-47af-48c3-a0eb-cf19ddcbc995",
   "metadata": {},
   "source": [
    "### Get Article Entries from RSS Feeds"
   ]
  },
  {
   "cell_type": "code",
   "execution_count": 36,
   "id": "07799dec-fde1-4a46-9931-acdc42bcf15b",
   "metadata": {},
   "outputs": [
    {
     "name": "stdout",
     "output_type": "stream",
     "text": [
      "            feed_title                                        entry_title  \\\n",
      "0   FOX Sports Digital  2024 NFL odds Week 11: Lines, spreads for all ...   \n",
      "1   FOX Sports Digital  Jared Goff does the unthinkable, plus 10 more ...   \n",
      "2   FOX Sports Digital  Kyler Murray squarely in MVP race, and what el...   \n",
      "3   FOX Sports Digital  Brock Purdy, 49ers SURVIVE In Christian McCaff...   \n",
      "4   FOX Sports Digital  Russell Wilson, Pittsburgh Steelers STUN Jayde...   \n",
      "..                 ...                                                ...   \n",
      "85  FOX Sports Digital  LeBron and Bronny James make history as first ...   \n",
      "86  FOX Sports Digital  Lakers win season opener vs. T-Wolves, What di...   \n",
      "87  FOX Sports Digital  Can Jayson Tatum win MVP and lead the Celtics ...   \n",
      "88  FOX Sports Digital  Most 3-Pointers in an NBA Game: Single game re...   \n",
      "89  FOX Sports Digital  Colin's Bold NBA predictions: Lakers miss play...   \n",
      "\n",
      "                                           entry_link  \\\n",
      "0   https://www.foxsports.com/stories/nfl/2024-nfl...   \n",
      "1   https://www.foxsports.com/stories/nfl/jared-go...   \n",
      "2   https://www.foxsports.com/stories/nfl/week-10-...   \n",
      "3   https://www.foxsports.com/watch/fmc-x51fwehpyo...   \n",
      "4   https://www.foxsports.com/watch/fmc-zckbri50yr...   \n",
      "..                                                ...   \n",
      "85  https://www.foxsports.com/watch/fmc-aubkt15rts...   \n",
      "86  https://www.foxsports.com/watch/fmc-h2ad38i9gx...   \n",
      "87  https://www.foxsports.com/watch/fmc-ye5fw1bhx5...   \n",
      "88  https://www.foxsports.com/stories/nba/most-3-p...   \n",
      "89  https://www.foxsports.com/watch/fmc-jeplxzknln...   \n",
      "\n",
      "               entry_published_date  \\\n",
      "0   Mon, 11 Nov 2024 00:34:23 -0500   \n",
      "1   Mon, 11 Nov 2024 00:34:11 -0500   \n",
      "2   Mon, 11 Nov 2024 00:28:11 -0500   \n",
      "3   Mon, 11 Nov 2024 04:57:10 +0000   \n",
      "4   Mon, 11 Nov 2024 04:52:49 +0000   \n",
      "..                              ...   \n",
      "85  Thu, 24 Oct 2024 01:58:36 +0000   \n",
      "86  Thu, 24 Oct 2024 01:56:41 +0000   \n",
      "87  Wed, 23 Oct 2024 23:00:28 +0000   \n",
      "88  Wed, 23 Oct 2024 16:46:57 -0400   \n",
      "89  Wed, 23 Oct 2024 20:06:14 +0000   \n",
      "\n",
      "                                        entry_summary  \n",
      "0   Week 11 of the NFL season is nearly here. Chec...  \n",
      "1   Jared Goff pulled off an improbable win on Sun...  \n",
      "2   FOX Sports' NFL experts identify what we learn...  \n",
      "3   Dave Helman sits down to talk about the San Fr...  \n",
      "4   Dave Helman sits down to talk about the Pittsb...  \n",
      "..                                                ...  \n",
      "85  Paul Pierce, Keyshawn Johnson and Joy Taylor s...  \n",
      "86  The Los Angeles Lakers win in season opener. A...  \n",
      "87  Paul Pierce dives into the MVP conversation, a...  \n",
      "88  Check out this article for a complete list of ...  \n",
      "89  Colin Cowherd shares his NBA predictions for t...  \n",
      "\n",
      "[90 rows x 5 columns]\n",
      "done\n"
     ]
    }
   ],
   "source": [
    "import feedparser\n",
    "\n",
    "url_list = [\n",
    "        \"https://api.foxsports.com/v2/content/optimized-rss?partnerKey=MB0Wehpmuj2lUhuRhQaafhBjAJqaPU244mlTDK1i&size=30&tags=fs/nfl\",#fox NFL\n",
    "        \"https://api.foxsports.com/v2/content/optimized-rss?partnerKey=MB0Wehpmuj2lUhuRhQaafhBjAJqaPU244mlTDK1i&size=30\", #fox MLB\n",
    "        \"https://api.foxsports.com/v2/content/optimized-rss?partnerKey=MB0Wehpmuj2lUhuRhQaafhBjAJqaPU244mlTDK1i&size=30&tags=fs/nba\", #fox NBA\n",
    "]\n",
    "    \n",
    "entries = [] #list of dictionaries\n",
    "for url in url_list:\n",
    "    feed = feedparser.parse(url)\n",
    "\n",
    "    feed_title= feed.feed.title\n",
    "    for entry in feed.entries:\n",
    "        entry_title= entry.title\n",
    "        entry_link= entry.link\n",
    "        entry_published_date= entry.published\n",
    "        entry_summary= entry.summary\n",
    "\n",
    "        entries.append({\n",
    "            \"feed_title\": feed_title,\n",
    "            \"entry_title\": entry_title,\n",
    "            \"entry_link\": entry_link,\n",
    "            \"entry_published_date\": entry_published_date,\n",
    "            \"entry_summary\": entry_summary,\n",
    "        })\n",
    "\n",
    "df = pd.DataFrame(entries)\n",
    "print(df)\n",
    "\n",
    "df.to_csv('RSS_sports_feeds.csv', index=False)"
   ]
  },
  {
   "cell_type": "code",
   "execution_count": 51,
   "id": "9fd113b7-87d3-42fc-a1ec-ffaa85aeddf9",
   "metadata": {},
   "outputs": [],
   "source": [
    "#if we want to get contents of whole article we would need to scrape it \n",
    "#use newspaper3k?\n",
    "\n",
    "\n",
    "\n"
   ]
  },
  {
   "cell_type": "markdown",
   "id": "f4f53448-164e-46d8-a16d-02c3dbaa7d0c",
   "metadata": {},
   "source": [
    "### Format DF to match DB table"
   ]
  },
  {
   "cell_type": "code",
   "execution_count": 46,
   "id": "b6b1163a-ce9f-47f0-9c15-d7e5cceaf6e9",
   "metadata": {},
   "outputs": [
    {
     "name": "stdout",
     "output_type": "stream",
     "text": [
      "done\n"
     ]
    }
   ],
   "source": [
    "from datetime import datetime\n",
    "\n",
    "#parse date\n",
    "df['publication_date'] = df['entry_published_date'].apply(\n",
    "    lambda x: datetime.strptime(x, \"%a, %d %b %Y %H:%M:%S %z\").date())\n",
    "\n",
    "dbdf = pd.read_csv('RSS_sports_feeds.csv')\n",
    "dbdf['team_or_player'] = df['entry_title']\n",
    "dbdf['source'] = df['feed_title']\n",
    "dbdf['publication_date'] = df['publication_date'] \n",
    "dbdf['content'] = df['entry_summary']\n",
    "dbdf['trust_score'] = 0.00  \n",
    "dbdf['classification'] = 'unknown' \n",
    "dbdf['link'] = df['entry_link']\n",
    "\n",
    "sports_DB_df = dbdf[['team_or_player', 'source', 'publication_date', 'content', 'trust_score', 'classification', 'link']]\n",
    "\n",
    "#save to a new CSV \n",
    "sports_DB_df.to_csv('formatted_sports_posts_for_DB.csv', index=False)\n",
    "print(\"done\")"
   ]
  },
  {
   "cell_type": "markdown",
   "id": "c282d88e-3a8a-4283-af31-f011ec789135",
   "metadata": {},
   "source": [
    "## Define Model to get classification and trust score to update sports_DB_df"
   ]
  },
  {
   "cell_type": "code",
   "execution_count": 41,
   "id": "72517dfa-1720-49e6-b55a-f15cdf181498",
   "metadata": {},
   "outputs": [
    {
     "name": "stdout",
     "output_type": "stream",
     "text": [
      "branch 'main' set up to track 'origin/main'.\n"
     ]
    },
    {
     "name": "stderr",
     "output_type": "stream",
     "text": [
      "To github.com:thernandez7/Sports_Misinformation_Tool.git\n",
      " * [new branch]      main -> main\n"
     ]
    }
   ],
   "source": [
    "#!git remote add origin git@github.com:thernandez7/Sports_Misinformation_Tool.git\n",
    "#!git branch -M main\n",
    "\n",
    "# !git add .\n",
    "# !git commit -m \"Initial commit\"\n",
    "!git push -u origin main\n",
    "\n"
   ]
  }
 ],
 "metadata": {
  "kernelspec": {
   "display_name": "Python 3 (ipykernel)",
   "language": "python",
   "name": "python3"
  },
  "language_info": {
   "codemirror_mode": {
    "name": "ipython",
    "version": 3
   },
   "file_extension": ".py",
   "mimetype": "text/x-python",
   "name": "python",
   "nbconvert_exporter": "python",
   "pygments_lexer": "ipython3",
   "version": "3.12.4"
  }
 },
 "nbformat": 4,
 "nbformat_minor": 5
}
