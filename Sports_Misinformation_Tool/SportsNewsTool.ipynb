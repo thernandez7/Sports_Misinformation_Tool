{
 "cells": [
  {
   "cell_type": "code",
   "execution_count": 107,
   "id": "72517dfa-1720-49e6-b55a-f15cdf181498",
   "metadata": {},
   "outputs": [
    {
     "name": "stderr",
     "output_type": "stream",
     "text": [
      "warning: in the working copy of 'Sports_Misinformation_Tool/SportsNewsTool.ipynb', LF will be replaced by CRLF the next time Git touches it\n"
     ]
    },
    {
     "name": "stdout",
     "output_type": "stream",
     "text": [
      "[main e4229ef] Initial commit\n",
      " 3 files changed, 676 insertions(+), 67 deletions(-)\n",
      "Already up to date.\n",
      "branch 'main' set up to track 'origin/main'.\n"
     ]
    },
    {
     "name": "stderr",
     "output_type": "stream",
     "text": [
      "To github.com:thernandez7/Sports_Misinformation_Tool.git\n",
      "   9601ed3..e4229ef  main -> main\n"
     ]
    }
   ],
   "source": [
    "# !git add .\n",
    "# !git commit -m \"Initial commit\"\n",
    "# !git pull\n",
    "# !git push -u origin main"
   ]
  },
  {
   "cell_type": "markdown",
   "id": "8446acb8-a93e-418e-a0ec-3ef05f7389b8",
   "metadata": {},
   "source": [
    "## Sports Misinformation Classification Tool"
   ]
  },
  {
   "cell_type": "markdown",
   "id": "a82e525a-1cf9-47be-8298-238a25ce2667",
   "metadata": {},
   "source": [
    "### Connect to the Database"
   ]
  },
  {
   "cell_type": "code",
   "execution_count": 67,
   "id": "065e181a-e5fd-4418-8be0-3378790be6ea",
   "metadata": {},
   "outputs": [
    {
     "name": "stdout",
     "output_type": "stream",
     "text": [
      "Connected to the database successfully!\n"
     ]
    }
   ],
   "source": [
    "import mysql.connector\n",
    "from sqlalchemy import create_engine\n",
    "import pandas as pd\n",
    "\n",
    "username = 'root'  \n",
    "password = 'password'\n",
    "host = 'localhost' \n",
    "database = 'sports_news_db'\n",
    "\n",
    "connection = mysql.connector.connect(\n",
    "    host=host,\n",
    "    user=username,\n",
    "    password=password,\n",
    "    database=database\n",
    ")\n",
    "\n",
    "if connection.is_connected():\n",
    "    print(\"Connected to the database successfully!\")\n",
    "\n",
    "engine = create_engine(f\"mysql+mysqlconnector://{username}:{password}@{host}/{database}\", echo=False)"
   ]
  },
  {
   "attachments": {},
   "cell_type": "markdown",
   "id": "70ed146f-9fe7-4370-a3d2-898811f3e183",
   "metadata": {},
   "source": [
    "### Use this format to insert into the database\n",
    "\n",
    "INSERT INTO articles (team_or_player, source, publication_date, content, trust_score, classification, link)\n",
    "VALUES\n",
    "('New York Yankees, Los Angeles Lakers', 'ESPN', '2024-10-27', 'Yankees article content example.', 85.00, 'real', 'https://example.com/article1'),\n",
    "('Los Angeles Lakers', 'Twitter', '2024-10-27', 'Lakers article content example.', 60.00, 'fake', 'https://example.com/article2');\n",
    "\n",
    "\n",
    "#### Table fields \n",
    "Table Name: articles\n",
    "\n",
    "Fields: \n",
    "\n",
    "     id INT AUTO_INCREMENT PRIMARY KEY,\n",
    "     \n",
    "     team_or_player VARCHAR(200), (This can be a string of comma-separated values)\n",
    "     \n",
    "     source VARCHAR(200),\n",
    "     \n",
    "     publication_date DATE,\n",
    "     \n",
    "     content TEXT,\n",
    "     \n",
    "     trust_score DECIMAL(5, 2), \n",
    "     \n",
    "     classification ENUM('real', 'fake', 'unknown') DEFAULT 'unknown',\n",
    "\n",
    "     link VARCHAR(255)"
   ]
  },
  {
   "cell_type": "markdown",
   "id": "359168cc-f336-4972-b580-38575b45a13e",
   "metadata": {},
   "source": [
    "### Simulate Tool Working"
   ]
  },
  {
   "cell_type": "code",
   "execution_count": null,
   "id": "9687e8d1-8c66-4df1-80cf-4bcf6f33805c",
   "metadata": {},
   "outputs": [],
   "source": [
    "team_or_player = input(\"Enter the team or player's name: \")\n",
    "\n",
    "query = f\"SELECT * FROM articles WHERE FIND_IN_SET('{team_or_player}', team_or_player) > 0\"\n",
    "df_result = pd.read_sql(query, con=engine, params={'team_or_player': team_or_player})\n",
    "\n",
    "#get results\n",
    "if not df_result.empty:\n",
    "    print(f\"Articles related to {team_or_player}:\")\n",
    "    display(df_result)\n",
    "else:\n",
    "    print(f\"No articles found for {team_or_player}.\")"
   ]
  },
  {
   "cell_type": "markdown",
   "id": "c1cee353-47af-48c3-a0eb-cf19ddcbc995",
   "metadata": {},
   "source": [
    "### Get Article Entries from RSS Feeds-- \\*this is not continuous*"
   ]
  },
  {
   "cell_type": "code",
   "execution_count": 95,
   "id": "07799dec-fde1-4a46-9931-acdc42bcf15b",
   "metadata": {},
   "outputs": [
    {
     "name": "stdout",
     "output_type": "stream",
     "text": [
      "               feed_title                                        entry_title  \\\n",
      "0      FOX Sports Digital  NFL top-10 rankings: Chiefs top Lions; Steeler...   \n",
      "1      FOX Sports Digital  2024 NFL odds Week 11: Lines, spreads for all ...   \n",
      "2      FOX Sports Digital  Jared Goff does the unthinkable, plus 10 more ...   \n",
      "3      FOX Sports Digital  Kyler Murray squarely in MVP race, and what el...   \n",
      "4      FOX Sports Digital  Brock Purdy, 49ers SURVIVE In Christian McCaff...   \n",
      "..                    ...                                                ...   \n",
      "381  SportsLogos.Net News  NFL Week 9 Uniform Schedule: Giants, Eagles, P...   \n",
      "382  SportsLogos.Net News  QMJHL’s Quebec Remparts Pay Homage to Beloved ...   \n",
      "383  SportsLogos.Net News  Oregon Ducks Unveil Final “Generation O” Unifo...   \n",
      "384  SportsLogos.Net News  Illinois Fighting Illini Unveil Military Appre...   \n",
      "385  SportsLogos.Net News             Dodgers Set World Series Sales Records   \n",
      "\n",
      "                                            entry_link  \\\n",
      "0    https://www.foxsports.com/stories/nfl/nfl-rank...   \n",
      "1    https://www.foxsports.com/stories/nfl/2024-nfl...   \n",
      "2    https://www.foxsports.com/stories/nfl/jared-go...   \n",
      "3    https://www.foxsports.com/stories/nfl/week-10-...   \n",
      "4    https://www.foxsports.com/watch/fmc-x51fwehpyo...   \n",
      "..                                                 ...   \n",
      "381  https://news.sportslogos.net/2024/11/03/nfl-we...   \n",
      "382  https://news.sportslogos.net/2024/11/02/qmjhls...   \n",
      "383  https://news.sportslogos.net/2024/11/02/oregon...   \n",
      "384  https://news.sportslogos.net/2024/11/02/illino...   \n",
      "385  https://news.sportslogos.net/2024/11/01/dodger...   \n",
      "\n",
      "                entry_published_date  \\\n",
      "0    Mon, 11 Nov 2024 09:50:09 -0500   \n",
      "1    Mon, 11 Nov 2024 00:34:23 -0500   \n",
      "2    Mon, 11 Nov 2024 00:34:11 -0500   \n",
      "3    Mon, 11 Nov 2024 00:28:11 -0500   \n",
      "4    Mon, 11 Nov 2024 04:57:10 +0000   \n",
      "..                               ...   \n",
      "381  Sun, 03 Nov 2024 16:25:35 +0000   \n",
      "382  Sat, 02 Nov 2024 15:00:00 +0000   \n",
      "383  Sat, 02 Nov 2024 05:03:33 +0000   \n",
      "384  Sat, 02 Nov 2024 04:02:08 +0000   \n",
      "385  Fri, 01 Nov 2024 19:22:21 +0000   \n",
      "\n",
      "                                         entry_summary  \n",
      "0    Wild wins by the Chiefs and Lions keep Bucky B...  \n",
      "1    Week 11 of the NFL season is nearly here. Chec...  \n",
      "2    Jared Goff pulled off an improbable win on Sun...  \n",
      "3    FOX Sports' NFL experts identify what we learn...  \n",
      "4    Dave Helman sits down to talk about the San Fr...  \n",
      "..                                                 ...  \n",
      "381  Our weekly series that looks at every uniform ...  \n",
      "382  Jerseys worn Friday vs. Sherbrooke Phoenix ins...  \n",
      "383  Oregon unveiled the fifth and final combinatio...  \n",
      "384  Illinois will wear a special helmet design dur...  \n",
      "385  The Los Angeles Dodgers set a series of mercha...  \n",
      "\n",
      "[386 rows x 5 columns]\n"
     ]
    }
   ],
   "source": [
    "import feedparser\n",
    "\n",
    "#add urls to this list to parse\n",
    "url_list = [\n",
    "        \"https://api.foxsports.com/v2/content/optimized-rss?partnerKey=MB0Wehpmuj2lUhuRhQaafhBjAJqaPU244mlTDK1i&size=30&tags=fs/nfl\",#fox NFL\n",
    "        \"https://api.foxsports.com/v2/content/optimized-rss?partnerKey=MB0Wehpmuj2lUhuRhQaafhBjAJqaPU244mlTDK1i&size=30\", #fox MLB\n",
    "        \"https://api.foxsports.com/v2/content/optimized-rss?partnerKey=MB0Wehpmuj2lUhuRhQaafhBjAJqaPU244mlTDK1i&size=30&tags=fs/nba\", #fox NBA\n",
    "        \"https://www.sportscollectorsdaily.com/feed/\", #Sports Collectors Daily \n",
    "        \"https://www.espn.com/espn/rss/news\", #ESPN top headlines\n",
    "        \"https://deadspin.com/rss/\", #Deadspin \n",
    "        \"https://news.sportslogos.net/feed/\", #SportsLogos.Net\n",
    "    \n",
    "]\n",
    "    \n",
    "entries = [] #list of dictionaries\n",
    "for url in url_list:\n",
    "    feed = feedparser.parse(url)\n",
    "\n",
    "    feed_title= feed.feed.title\n",
    "    for entry in feed.entries:\n",
    "        entry_title= entry.title\n",
    "        entry_link= entry.link\n",
    "        entry_published_date= entry.published\n",
    "        entry_summary= entry.summary\n",
    "\n",
    "        entries.append({\n",
    "            \"feed_title\": feed_title,\n",
    "            \"entry_title\": entry_title,\n",
    "            \"entry_link\": entry_link,\n",
    "            \"entry_published_date\": entry_published_date,\n",
    "            \"entry_summary\": entry_summary,\n",
    "        })\n",
    "\n",
    "df = pd.DataFrame(entries)\n",
    "print(df)\n",
    "\n",
    "df.to_csv('RSS_sports_feeds.csv', index=False)"
   ]
  },
  {
   "cell_type": "code",
   "execution_count": 51,
   "id": "9fd113b7-87d3-42fc-a1ec-ffaa85aeddf9",
   "metadata": {},
   "outputs": [],
   "source": [
    "#if we want to get contents of whole article we would need to scrape it \n",
    "#use newspaper3k?\n",
    "\n",
    "\n",
    "\n"
   ]
  },
  {
   "cell_type": "markdown",
   "id": "f4f53448-164e-46d8-a16d-02c3dbaa7d0c",
   "metadata": {},
   "source": [
    "### Format DF to match DB table"
   ]
  },
  {
   "cell_type": "code",
   "execution_count": 105,
   "id": "b6b1163a-ce9f-47f0-9c15-d7e5cceaf6e9",
   "metadata": {},
   "outputs": [
    {
     "name": "stdout",
     "output_type": "stream",
     "text": [
      "done\n"
     ]
    },
    {
     "name": "stderr",
     "output_type": "stream",
     "text": [
      "C:\\Users\\tizia\\Anaconda4\\Lib\\site-packages\\dateutil\\parser\\_parser.py:1207: UnknownTimezoneWarning: tzname EST identified but not understood.  Pass `tzinfos` argument in order to correctly return a timezone-aware datetime.  In a future version, this will raise an exception.\n",
      "  warnings.warn(\"tzname {tzname} identified but not understood.  \"\n"
     ]
    }
   ],
   "source": [
    "from datetime import datetime\n",
    "from dateutil import parser\n",
    "\n",
    "df['publication_date'] = df['entry_published_date'].apply(lambda x: parser.parse(x).date()) #parse different date formats to date object format\n",
    "dbdf = pd.read_csv('RSS_sports_feeds.csv')\n",
    "dbdf['team_or_player'] = df['entry_title']\n",
    "dbdf['source'] = df['feed_title']\n",
    "dbdf['publication_date'] = df['publication_date'] \n",
    "dbdf['content'] = df['entry_summary']\n",
    "dbdf['trust_score'] = 0.00  \n",
    "dbdf['classification'] = 'unknown' \n",
    "dbdf['link'] = df['entry_link']\n",
    "\n",
    "sports_DB_df = dbdf[['team_or_player', 'source', 'publication_date', 'content', 'trust_score', 'classification', 'link']]\n",
    "\n",
    "#save to a new CSV \n",
    "sports_DB_df.to_csv('formatted_sports_posts_for_DB.csv', index=False)\n",
    "print(\"done\")"
   ]
  },
  {
   "cell_type": "markdown",
   "id": "c282d88e-3a8a-4283-af31-f011ec789135",
   "metadata": {},
   "source": [
    "## Define labeling approach to get classification and trust score to update sports_DB_df"
   ]
  }
 ],
 "metadata": {
  "kernelspec": {
   "display_name": "Python 3 (ipykernel)",
   "language": "python",
   "name": "python3"
  },
  "language_info": {
   "codemirror_mode": {
    "name": "ipython",
    "version": 3
   },
   "file_extension": ".py",
   "mimetype": "text/x-python",
   "name": "python",
   "nbconvert_exporter": "python",
   "pygments_lexer": "ipython3",
   "version": "3.12.4"
  }
 },
 "nbformat": 4,
 "nbformat_minor": 5
}
