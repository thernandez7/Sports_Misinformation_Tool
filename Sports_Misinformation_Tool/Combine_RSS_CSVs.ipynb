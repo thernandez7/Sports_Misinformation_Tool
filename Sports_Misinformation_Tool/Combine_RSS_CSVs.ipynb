{
 "cells": [
  {
   "cell_type": "code",
   "execution_count": 1,
   "id": "4502a4e6-a16a-4e6c-a911-613100749e60",
   "metadata": {},
   "outputs": [],
   "source": [
    "#combine CSVs into one CSV with all RSS feed articles \n",
    "import pandas as pd\n",
    "from dateutil import parser"
   ]
  },
  {
   "cell_type": "code",
   "execution_count": 3,
   "id": "afa498d9-8a3a-4985-88a0-292e58ae9b7a",
   "metadata": {},
   "outputs": [
    {
     "name": "stderr",
     "output_type": "stream",
     "text": [
      "C:\\Users\\tizia\\Anaconda4\\Lib\\site-packages\\dateutil\\parser\\_parser.py:1207: UnknownTimezoneWarning: tzname EST identified but not understood.  Pass `tzinfos` argument in order to correctly return a timezone-aware datetime.  In a future version, this will raise an exception.\n",
      "  warnings.warn(\"tzname {tzname} identified but not understood.  \"\n"
     ]
    }
   ],
   "source": [
    "all_rss_df = pd.read_csv('All_RSS_articles_unlabeled.csv') #original \n",
    "new_df = pd.read_csv('RSS_sports_feeds_11-27.csv') #one to add (CHANGE NAME)\n",
    "\n",
    "#Parse the 'entry_published_date' column to extract the date\n",
    "new_df['publication_date'] = new_df['entry_published_date'].apply(lambda x: parser.parse(x).date())\n",
    "\n",
    "#Filter the DataFrame for rows where publication_date is ...\n",
    "filtered_df = new_df[new_df['publication_date'] == pd.to_datetime('2024-11-27').date()] #(CHANGE DATE TO ONE LOOKING TO ADD) \n",
    "\n",
    "combined_df = pd.concat([filtered_df, all_rss_df], ignore_index=True)\n",
    "\n",
    "combined_df.to_csv('All_RSS_articles_unlabeled.csv', index=False)"
   ]
  },
  {
   "cell_type": "code",
   "execution_count": 13,
   "id": "efc7cfa9-fbe3-4241-9974-d669224d5552",
   "metadata": {},
   "outputs": [
    {
     "name": "stderr",
     "output_type": "stream",
     "text": [
      "C:\\Users\\tizia\\Anaconda4\\Lib\\site-packages\\dateutil\\parser\\_parser.py:1207: UnknownTimezoneWarning: tzname EST identified but not understood.  Pass `tzinfos` argument in order to correctly return a timezone-aware datetime.  In a future version, this will raise an exception.\n",
      "  warnings.warn(\"tzname {tzname} identified but not understood.  \"\n"
     ]
    }
   ],
   "source": [
    "# keep_titles = [\"Yahoo! Sports - News, Scores, Standings, Rumors, Fantasy Games\",\n",
    "#                \"21Sports.com\", \n",
    "#                \"Sports Brackets\",\n",
    "#                \"Sports Weez\",\n",
    "#                \"SportsLogos.Net News\",\n",
    "#                \"Sportskeeda\",\n",
    "#               ]  \n",
    "\n",
    "# all_rss_df = pd.read_csv('All_RSS_articles.csv') #original \n",
    "# new_df = pd.read_csv('RSS_sports_feeds_11-15.csv') #one to add (CHANGE NAME)\n",
    "\n",
    "# #Parse the 'entry_published_date' column to extract the date\n",
    "# new_df['publication_date'] = new_df['entry_published_date'].apply(lambda x: parser.parse(x).date())\n",
    "\n",
    "# # Apply the combined filter - keep titles of new sources to collect all from feed, only gather new from today of old sources\n",
    "# filtered_df = new_df[\n",
    "#     (new_df['feed_title'].isin(keep_titles)) |\n",
    "#     (new_df['publication_date'] == pd.to_datetime('2024-11-15').date())\n",
    "# ]\n",
    "\n",
    "\n",
    "# combined_df = pd.concat([filtered_df, all_rss_df], ignore_index=True)\n",
    "# combined_df\n",
    "\n",
    "# # combined_df.to_csv('All_RSS_articles.csv', index=False) #WILL REWRITE THE CSV!! CAREFUL RUNNING!\n"
   ]
  }
 ],
 "metadata": {
  "kernelspec": {
   "display_name": "Python 3 (ipykernel)",
   "language": "python",
   "name": "python3"
  },
  "language_info": {
   "codemirror_mode": {
    "name": "ipython",
    "version": 3
   },
   "file_extension": ".py",
   "mimetype": "text/x-python",
   "name": "python",
   "nbconvert_exporter": "python",
   "pygments_lexer": "ipython3",
   "version": "3.12.4"
  }
 },
 "nbformat": 4,
 "nbformat_minor": 5
}
