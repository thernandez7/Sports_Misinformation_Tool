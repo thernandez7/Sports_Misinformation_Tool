{
 "cells": [
  {
   "cell_type": "code",
   "execution_count": 19,
   "id": "650b10f9-e2bf-4779-a634-dc2b2fba2983",
   "metadata": {},
   "outputs": [],
   "source": [
    "#combine CSVs into one CSV with all RSS feed articles \n",
    "import pandas as pd\n",
    "from dateutil import parser\n",
    "\n",
    "all_rss_df = pd.read_csv('All_RSS_articles.csv') #original \n",
    "new_df = pd.read_csv('RSS_sports_feeds_11-.csv') #one to add (CHANGE NAME)\n",
    "\n",
    "#Parse the 'entry_published_date' column to extract the date\n",
    "new_df['publication_date'] = new_df['entry_published_date'].apply(lambda x: parser.parse(x).date())\n",
    "\n",
    "#Filter the DataFrame for rows where publication_date is ...\n",
    "filtered_df = new_df[new_df['publication_date'] == pd.to_datetime('2024-11-12').date()] #(CHANGE DATE TO ONE LOOKING TO ADD) \n",
    "\n",
    "combined_df = pd.concat([filtered_df, all_rss_df], ignore_index=True)\n",
    "combined_df\n",
    "\n",
    "\n",
    "# filtered_df.to_csv('All_RSS_articles.csv', index=False)"
   ]
  }
 ],
 "metadata": {
  "kernelspec": {
   "display_name": "Python 3 (ipykernel)",
   "language": "python",
   "name": "python3"
  },
  "language_info": {
   "codemirror_mode": {
    "name": "ipython",
    "version": 3
   },
   "file_extension": ".py",
   "mimetype": "text/x-python",
   "name": "python",
   "nbconvert_exporter": "python",
   "pygments_lexer": "ipython3",
   "version": "3.12.4"
  }
 },
 "nbformat": 4,
 "nbformat_minor": 5
}
