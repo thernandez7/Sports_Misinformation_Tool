{
 "cells": [
  {
   "cell_type": "markdown",
   "id": "920f5e87-bdb8-4d12-9226-f6caef7f598b",
   "metadata": {},
   "source": [
    "## Sentiment Analysis Tool analysis"
   ]
  },
  {
   "cell_type": "code",
   "execution_count": 1,
   "id": "444da1d7-5aad-4259-9210-eca1168c59dd",
   "metadata": {},
   "outputs": [
    {
     "data": {
      "application/vnd.jupyter.widget-view+json": {
       "model_id": "b6a7fdf00c6c437f80b152a1973b7869",
       "version_major": 2,
       "version_minor": 0
      },
      "text/plain": [
       "config.json:   0%|          | 0.00/2.10k [00:00<?, ?B/s]"
      ]
     },
     "metadata": {},
     "output_type": "display_data"
    },
    {
     "name": "stderr",
     "output_type": "stream",
     "text": [
      "C:\\Users\\tizia\\Anaconda4\\Lib\\site-packages\\huggingface_hub\\file_download.py:139: UserWarning: `huggingface_hub` cache-system uses symlinks by default to efficiently store duplicated files but your machine does not support them in C:\\Users\\tizia\\.cache\\huggingface\\hub\\models--bhadresh-savani--bert-base-go-emotion. Caching files will still work but in a degraded version that might require more space on your disk. This warning can be disabled by setting the `HF_HUB_DISABLE_SYMLINKS_WARNING` environment variable. For more details, see https://huggingface.co/docs/huggingface_hub/how-to-cache#limitations.\n",
      "To support symlinks on Windows, you either need to activate Developer Mode or to run Python as an administrator. In order to activate developer mode, see this article: https://docs.microsoft.com/en-us/windows/apps/get-started/enable-your-device-for-development\n",
      "  warnings.warn(message)\n"
     ]
    },
    {
     "data": {
      "application/vnd.jupyter.widget-view+json": {
       "model_id": "ce8d34e801ef4c38a5ed0e16fb237e6d",
       "version_major": 2,
       "version_minor": 0
      },
      "text/plain": [
       "pytorch_model.bin:   0%|          | 0.00/438M [00:00<?, ?B/s]"
      ]
     },
     "metadata": {},
     "output_type": "display_data"
    },
    {
     "data": {
      "application/vnd.jupyter.widget-view+json": {
       "model_id": "a118b48fa3d54798be402d9e6f9bc660",
       "version_major": 2,
       "version_minor": 0
      },
      "text/plain": [
       "tokenizer_config.json:   0%|          | 0.00/333 [00:00<?, ?B/s]"
      ]
     },
     "metadata": {},
     "output_type": "display_data"
    },
    {
     "data": {
      "application/vnd.jupyter.widget-view+json": {
       "model_id": "5cb85dfae857496f864e470ba0983c89",
       "version_major": 2,
       "version_minor": 0
      },
      "text/plain": [
       "vocab.txt:   0%|          | 0.00/232k [00:00<?, ?B/s]"
      ]
     },
     "metadata": {},
     "output_type": "display_data"
    },
    {
     "data": {
      "application/vnd.jupyter.widget-view+json": {
       "model_id": "efdd4471024947e5bc6527f686ce7c39",
       "version_major": 2,
       "version_minor": 0
      },
      "text/plain": [
       "tokenizer.json:   0%|          | 0.00/466k [00:00<?, ?B/s]"
      ]
     },
     "metadata": {},
     "output_type": "display_data"
    },
    {
     "data": {
      "application/vnd.jupyter.widget-view+json": {
       "model_id": "2f84ab5c65c24e5f91595e0f450ed9f2",
       "version_major": 2,
       "version_minor": 0
      },
      "text/plain": [
       "special_tokens_map.json:   0%|          | 0.00/112 [00:00<?, ?B/s]"
      ]
     },
     "metadata": {},
     "output_type": "display_data"
    },
    {
     "name": "stdout",
     "output_type": "stream",
     "text": [
      "Heat in better place ahead of NBA Cup opener vs. Pistons\n",
      "result_bert_finnews: [{'label': 'positive', 'score': 0.9994069337844849}]\n",
      "result_bert_go: [{'label': 'neutral', 'score': 0.6641061902046204}]\n",
      "\n",
      "Bears fire offensive coordinator Shane Waldron amid QB Caleb Williams' struggles\n",
      "result_bert_finnews: [{'label': 'negative', 'score': 0.9714420437812805}]\n",
      "result_bert_go: [{'label': 'neutral', 'score': 0.45000267028808594}]\n",
      "\n",
      "Wagner brothers, Magic too much for Wizards\n",
      "result_bert_finnews: [{'label': 'neutral', 'score': 0.999860405921936}]\n",
      "result_bert_go: [{'label': 'neutral', 'score': 0.6996738314628601}]\n",
      "\n",
      "49ers coach Kyle Shanahan says players' sideline spat has been 'squashed'\n",
      "result_bert_finnews: [{'label': 'negative', 'score': 0.9799481630325317}]\n",
      "result_bert_go: [{'label': 'neutral', 'score': 0.42990678548812866}]\n",
      "\n",
      "NHL roundup: John Gibson shines as Ducks down Jackets\n",
      "result_bert_finnews: [{'label': 'positive', 'score': 0.5432299375534058}]\n",
      "result_bert_go: [{'label': 'neutral', 'score': 0.6517741680145264}]\n",
      "\n",
      "Time to eulogize the Jets’ season? | Breakfast Ball\n",
      "result_bert_finnews: [{'label': 'neutral', 'score': 0.9998594522476196}]\n",
      "result_bert_go: [{'label': 'neutral', 'score': 0.40498483180999756}]\n",
      "\n",
      "No. 21 Florida faces tricky test against Grambling\n",
      "result_bert_finnews: [{'label': 'neutral', 'score': 0.9992538094520569}]\n",
      "result_bert_go: [{'label': 'neutral', 'score': 0.4165637791156769}]\n",
      "\n",
      "Wembanyama’s double-double helps Spurs wallop Kings\n",
      "result_bert_finnews: [{'label': 'positive', 'score': 0.9969918727874756}]\n",
      "result_bert_go: [{'label': 'neutral', 'score': 0.5512337684631348}]\n",
      "\n",
      "Browns' Jameis Winston remains QB1 after bye week\n",
      "result_bert_finnews: [{'label': 'neutral', 'score': 0.999850869178772}]\n",
      "result_bert_go: [{'label': 'neutral', 'score': 0.7328318953514099}]\n",
      "\n",
      "North Florida drops 105 on Georgia Tech, scores another upset\n",
      "result_bert_finnews: [{'label': 'negative', 'score': 0.9977855682373047}]\n",
      "result_bert_go: [{'label': 'neutral', 'score': 0.23074118793010712}]\n",
      "\n",
      "Giants will 'evaluate' Daniel Jones, QB situation during bye week\n",
      "result_bert_finnews: [{'label': 'neutral', 'score': 0.9997736811637878}]\n",
      "result_bert_go: [{'label': 'neutral', 'score': 0.569041907787323}]\n",
      "\n",
      "Jannik Sinner, Taylor Fritz open Nitto ATP Finals with wins\n",
      "result_bert_finnews: [{'label': 'positive', 'score': 0.7397871613502502}]\n",
      "result_bert_go: [{'label': 'neutral', 'score': 0.5292361378669739}]\n",
      "\n",
      "2024 NFL Defensive Rookie of the Year odds: Jared Verse's odds shorten further\n",
      "result_bert_finnews: [{'label': 'positive', 'score': 0.9968001842498779}]\n",
      "result_bert_go: [{'label': 'neutral', 'score': 0.8827130198478699}]\n",
      "\n",
      "RJ Barrett Saw The Actor That Played Jaime Lannister Courtside And Yelled ‘Game Of Thrones!’\n",
      "result_bert_finnews: [{'label': 'neutral', 'score': 0.9998412132263184}]\n",
      "result_bert_go: [{'label': 'surprise', 'score': 0.3883100748062134}]\n",
      "\n",
      "Dems are pressuring Supreme Court Justice Sotomayor to retire so they can replace her with someone younger like Kamala Harris\n",
      "result_bert_finnews: [{'label': 'neutral', 'score': 0.9997480511665344}]\n",
      "result_bert_go: [{'label': 'neutral', 'score': 0.7854462265968323}]\n",
      "\n"
     ]
    }
   ],
   "source": [
    "#sentiment tool test\n",
    "import pandas as pd\n",
    "from transformers import pipeline\n",
    "import random\n",
    "\n",
    "df = pd.read_csv('RSS_sports_feeds_11-12.csv') #scraped feeds\n",
    "\n",
    "pipe_finnews = pipeline(\"text-classification\", model=\"mrm8488/distilroberta-finetuned-financial-news-sentiment-analysis\")\n",
    "pipe_go = pipeline(\"text-classification\", model=\"bhadresh-savani/bert-base-go-emotion\")\n",
    "\n",
    "headlines=  random.sample( df[\"entry_title\"].tolist(), 15) \n",
    "# print(headlines)\n",
    "\n",
    "for headline in headlines: \n",
    "    result_bert_finnews = pipe_finnews(headline)\n",
    "    result_bert_go = pipe_go(headline)\n",
    "    print(headline)\n",
    "    print(f\"result_bert_finnews: {result_bert_finnews}\")\n",
    "    print(f\"result_bert_go: {result_bert_go}\")\n",
    "    print()\n",
    "\n",
    "# #check labels\n",
    "# result_bert_finnews = pipe_finnews(\"Lionel Messi & Inter Miami SHOCKINGLY lose to Atlanta United 3-2 | SOTU\")\n",
    "# print(f\"result_bert_finnews: {result_bert_finnews}\")\n"
   ]
  },
  {
   "cell_type": "code",
   "execution_count": 33,
   "id": "2435ce05-85c9-4dc7-9564-5a6d2ee993ac",
   "metadata": {},
   "outputs": [
    {
     "name": "stderr",
     "output_type": "stream",
     "text": [
      "Some weights of the model checkpoint at cardiffnlp/twitter-roberta-base-sentiment-latest were not used when initializing RobertaForSequenceClassification: ['roberta.pooler.dense.bias', 'roberta.pooler.dense.weight']\n",
      "- This IS expected if you are initializing RobertaForSequenceClassification from the checkpoint of a model trained on another task or with another architecture (e.g. initializing a BertForSequenceClassification model from a BertForPreTraining model).\n",
      "- This IS NOT expected if you are initializing RobertaForSequenceClassification from the checkpoint of a model that you expect to be exactly identical (initializing a BertForSequenceClassification model from a BertForSequenceClassification model).\n"
     ]
    },
    {
     "name": "stdout",
     "output_type": "stream",
     "text": [
      "result_bert_twitter: [{'label': 'negative', 'score': 0.5882866978645325}]\n"
     ]
    }
   ],
   "source": [
    "#sentiment tool test- trying another twitter post fine-tuned model to compare to the Financial News tool \n",
    "#examine differences- which more accurate?\n",
    "\n",
    "import pandas as pd\n",
    "from transformers import pipeline\n",
    "import random\n",
    "df = pd.read_csv('RSS_sports_feeds_11-12.csv') #scraped feeds\n",
    "\n",
    "#pipe_newsart = pipeline(\"text-classification\", model=\"fhamborg/roberta-targeted-sentiment-classification-newsarticles\")\n",
    "# pipe_twitter = pipeline(\"text-classification\", model=\"cardiffnlp/twitter-roberta-base-sentiment-latest\") \n",
    "# pipe_finnews = pipeline(\"text-classification\", model=\"mrm8488/distilroberta-finetuned-financial-news-sentiment-analysis\")\n",
    "#pipe_fin2 = pipe = pipeline(\"text-classification\", model=\"AnkitAI/distilbert-base-uncased-financial-news-sentiment-analysis\")     \n",
    "\n",
    "# headlines=  random.sample( df[\"entry_title\"].tolist(), 15) \n",
    "\n",
    "# for headline in headlines: \n",
    "#     result_bert_twitter = pipe_twitter(headline)\n",
    "#     result_bert_finnews = pipe_finnews(headline)\n",
    "#     #result_bert_newsart = pipe_newsart(headline)\n",
    "#     #result_bert_fin2 = pipe_fin2(headline)\n",
    "    \n",
    "#     print(headline)\n",
    "#     print(f\"result_bert_finnews: {result_bert_finnews}\")\n",
    "#     #print(f\"result_bert_fin2: {result_bert_fin2}\")\n",
    "#     print(f\"result_bert_twitter: {result_bert_twitter}\")\n",
    "#     #print(f\"result_bert_newsart: {result_bert_newsart}\")\n",
    "    \n",
    "#     print()\n",
    "\n",
    "#check labels\n",
    "result_bert_twitter = pipe_twitter(\"Lionel Messi & Inter Miami SHOCKINGLY lose to Atlanta United 3-2 | SOTU\")\n",
    "print(f\"result_bert_twitter: {result_bert_twitter}\")\n"
   ]
  },
  {
   "cell_type": "code",
   "execution_count": 35,
   "id": "228d61db-b40d-4e6e-8e58-b5fbfe1aec6e",
   "metadata": {},
   "outputs": [
    {
     "name": "stdout",
     "output_type": "stream",
     "text": [
      "Dataset labels\t: [0, 0, 0, 0, 1, 0, 0, 0, 0, 0, 0, 0, 0, 0, -1]\n",
      "My labels\t: [0, -1, 0, 0, 1, 0, 0, 0, 0, -1, 1, 1, -1, -1, -1]\n",
      "Pearson Correlation Coefficient: 0.5085476277156078\n"
     ]
    }
   ],
   "source": [
    "#labels from original random sample\n",
    "# sample_actual_labels=[0,-1,0,-1,1,0,0,0,0,0,1,1,-1,1,-1] #fin news\n",
    "# print(f\"Dataset labels\\t: {sample_actual_labels}\")\n",
    "\n",
    "sample_actual_labels=[0,0,0,0,1,0,0,0,0,0,0,0,0,0,-1] #twitter news\n",
    "print(f\"Dataset labels\\t: {sample_actual_labels}\")\n",
    "\n",
    "#my labels were the exact same as dataset labels   \n",
    "my_sample_labels= [0,-1,0,0,1,0,0,0,0,-1,1,1,-1,-1,-1]\n",
    "print(f\"My labels\\t: {my_sample_labels}\")\n",
    "\n",
    "#3/15 differing labels \n",
    "\n",
    "import numpy as np\n",
    "correlation = np.corrcoef(sample_actual_labels, my_sample_labels)[0, 1]\n",
    "print(f\"Pearson Correlation Coefficient: {correlation}\") \n",
    "#strong positive correlation "
   ]
  },
  {
   "cell_type": "code",
   "execution_count": 27,
   "id": "6aa1ec9a-edc4-45ae-883a-6776d3ec36df",
   "metadata": {},
   "outputs": [
    {
     "name": "stdout",
     "output_type": "stream",
     "text": [
      "headline: Heat in better place ahead of NBA Cup opener vs. Pistons\n",
      "predicted_emotion: fear\n",
      "emotion_score: 0.05000000074505806\n",
      "\n",
      "headline: Bears fire offensive coordinator Shane Waldron amid QB Caleb Williams' struggles\n",
      "predicted_emotion: fear\n",
      "emotion_score: 0.05000000074505806\n",
      "\n",
      "headline: Wagner brothers, Magic too much for Wizards\n",
      "predicted_emotion: neutral\n",
      "emotion_score: 0.03999999910593033\n",
      "\n",
      "headline: 49ers coach Kyle Shanahan says players' sideline spat has been 'squashed'\n",
      "predicted_emotion: fear\n",
      "emotion_score: 0.05000000074505806\n",
      "\n",
      "headline: NHL roundup: John Gibson shines as Ducks down Jackets\n",
      "predicted_emotion: fear\n",
      "emotion_score: 0.05000000074505806\n",
      "\n",
      "headline: Time to eulogize the Jets’ season? | Breakfast Ball\n",
      "predicted_emotion: fear\n",
      "emotion_score: 0.03999999910593033\n",
      "\n",
      "headline: No. 21 Florida faces tricky test against Grambling\n",
      "predicted_emotion: fear\n",
      "emotion_score: 0.03999999910593033\n",
      "\n",
      "headline: Wembanyama’s double-double helps Spurs wallop Kings\n",
      "predicted_emotion: fear\n",
      "emotion_score: 0.05000000074505806\n",
      "\n",
      "headline: Browns' Jameis Winston remains QB1 after bye week\n",
      "predicted_emotion: joy\n",
      "emotion_score: 0.05000000074505806\n",
      "\n",
      "headline: North Florida drops 105 on Georgia Tech, scores another upset\n",
      "predicted_emotion: optimism\n",
      "emotion_score: 0.03999999910593033\n",
      "\n",
      "headline: Giants will 'evaluate' Daniel Jones, QB situation during bye week\n",
      "predicted_emotion: remorse\n",
      "emotion_score: 0.05000000074505806\n",
      "\n",
      "headline: Jannik Sinner, Taylor Fritz open Nitto ATP Finals with wins\n",
      "predicted_emotion: neutral\n",
      "emotion_score: 0.05000000074505806\n",
      "\n",
      "headline: 2024 NFL Defensive Rookie of the Year odds: Jared Verse's odds shorten further\n",
      "predicted_emotion: joy\n",
      "emotion_score: 0.05000000074505806\n",
      "\n",
      "headline: RJ Barrett Saw The Actor That Played Jaime Lannister Courtside And Yelled ‘Game Of Thrones!’\n",
      "predicted_emotion: fear\n",
      "emotion_score: 0.05000000074505806\n",
      "\n",
      "headline: Dems are pressuring Supreme Court Justice Sotomayor to retire so they can replace her with someone younger like Kamala Harris\n",
      "predicted_emotion: fear\n",
      "emotion_score: 0.05000000074505806\n",
      "\n"
     ]
    }
   ],
   "source": [
    "#Go attempt \n",
    "\n",
    "from transformers import AutoTokenizer, AutoModelForSequenceClassification\n",
    "import torch\n",
    "import pandas as pd\n",
    "import numpy as np\n",
    "\n",
    "tokenizer = AutoTokenizer.from_pretrained(\"bhadresh-savani/distilbert-base-uncased-go-emotion\")\n",
    "model = AutoModelForSequenceClassification.from_pretrained(\"bhadresh-savani/distilbert-base-uncased-go-emotion\")\n",
    "\n",
    "# Define emotion labels based on the GoEmotions dataset\n",
    "emotion_labels = [\n",
    "    \"admiration\", \"amusement\", \"anger\", \"annoyance\", \"approval\", \"caring\", \"confusion\", \"curiosity\",\n",
    "    \"desire\", \"disappointment\", \"disapproval\", \"disgust\", \"embarrassment\", \"excitement\", \"fear\",\n",
    "    \"gratitude\", \"grief\", \"joy\", \"love\", \"nervousness\", \"optimism\", \"pride\", \"realization\", \"relief\",\n",
    "    \"remorse\", \"sadness\", \"surprise\", \"neutral\"\n",
    "]\n",
    "\n",
    "def classify_emotions(text):\n",
    "    # Tokenize the input text\n",
    "    inputs = tokenizer(text, return_tensors=\"pt\", truncation=True)\n",
    "\n",
    "    # Get model predictions\n",
    "    with torch.no_grad():\n",
    "        outputs = model(**inputs)\n",
    "\n",
    "    # Convert logits to probabilities\n",
    "    probabilities = torch.softmax(outputs.logits, dim=-1)[0].numpy()\n",
    "\n",
    "    # Get the top emotion prediction\n",
    "    top_emotion_idx = np.argmax(probabilities)\n",
    "    top_emotion = emotion_labels[top_emotion_idx]\n",
    "    top_probability = probabilities[top_emotion_idx]\n",
    "\n",
    "    return top_emotion, top_probability\n",
    "    \n",
    "#-----------------------------------------------------\n",
    "\n",
    "# headlines= df[\"entry_title\"]\n",
    "# Loop through headlines and classify each one\n",
    "results = []\n",
    "for headline in headlines:\n",
    "    emotion, score = classify_emotions(headline)\n",
    "    results.append({\n",
    "        \"headline\": headline,\n",
    "        \"predicted_emotion\": emotion,\n",
    "        \"emotion_score\": round(score, 2)\n",
    "    })\n",
    "    \n",
    "for dict in results:\n",
    "    for key,value in dict.items():\n",
    "        print(f\"{key}: {value}\")\n",
    "    print()\n",
    "        \n"
   ]
  },
  {
   "cell_type": "code",
   "execution_count": 35,
   "id": "f61d8a49-7d84-482e-9710-2b5ed967e3b5",
   "metadata": {},
   "outputs": [
    {
     "name": "stdout",
     "output_type": "stream",
     "text": [
      "headline: Report: Bucs LT Tristan Wirfs has MCL sprain\n",
      "predicted_emotion: joy\n",
      "emotion_score: 0.05000000074505806\n",
      "\n",
      "headline: Chris Sale, Tarik Skubal named finalists for Cy Young\n",
      "predicted_emotion: joy\n",
      "emotion_score: 0.03999999910593033\n",
      "\n",
      "headline: Team Falcons win DreamLeague Season 24 grand final\n",
      "predicted_emotion: neutral\n",
      "emotion_score: 0.03999999910593033\n",
      "\n",
      "headline: Lou Williams Called Drake’s Comments About DeMar DeRozan ‘Selfish’\n",
      "predicted_emotion: admiration\n",
      "emotion_score: 0.03999999910593033\n",
      "\n",
      "headline: The Bucks Have ‘Called The Whole League’ Trying To Find A Trade After Their Awful Start\n",
      "predicted_emotion: caring\n",
      "emotion_score: 0.05000000074505806\n",
      "\n",
      "headline: VIDEO: Spirit Airlines jet peppered with gunfire while landing in Haiti, flight attendant grazed by bullet 😬\n",
      "predicted_emotion: admiration\n",
      "emotion_score: 0.03999999910593033\n",
      "\n",
      "headline: After 'embarrassing' loss, Blazers to host Wolves\n",
      "predicted_emotion: joy\n",
      "emotion_score: 0.05000000074505806\n",
      "\n",
      "headline: Florida State fires 3 assistants, including OC, DC\n",
      "predicted_emotion: caring\n",
      "emotion_score: 0.03999999910593033\n",
      "\n",
      "headline: NBA roundup: Cavs make it 12-0 with win over Bulls\n",
      "predicted_emotion: neutral\n",
      "emotion_score: 0.03999999910593033\n",
      "\n",
      "headline: Reports: No deals after Bengals work out Xavien Howard, Leonard Fournette\n",
      "predicted_emotion: joy\n",
      "emotion_score: 0.05000000074505806\n",
      "\n",
      "headline: Maryland hopes to continue early-season dominance vs. Florida A&M\n",
      "predicted_emotion: remorse\n",
      "emotion_score: 0.03999999910593033\n",
      "\n",
      "headline: Athletics Officially Change Name, Introduce Logos for Sacramento\n",
      "predicted_emotion: remorse\n",
      "emotion_score: 0.03999999910593033\n",
      "\n",
      "headline: Bee Forum News: Some Voters Did Something\n",
      "predicted_emotion: remorse\n",
      "emotion_score: 0.03999999910593033\n",
      "\n",
      "headline: Howard University Ushers In A New Era With A Just Blaze-Inspired Halftime Show\n",
      "predicted_emotion: remorse\n",
      "emotion_score: 0.03999999910593033\n",
      "\n",
      "headline: Stop rate for all 134 CFB teams: Florida State's big defensive dip\n",
      "predicted_emotion: caring\n",
      "emotion_score: 0.03999999910593033\n",
      "\n"
     ]
    }
   ],
   "source": [
    "#Go attempt \n",
    "\n",
    "from transformers import AutoTokenizer, AutoModelForSequenceClassification\n",
    "import torch\n",
    "import pandas as pd\n",
    "import numpy as np\n",
    "import random\n",
    "\n",
    "tokenizer = AutoTokenizer.from_pretrained(\"bhadresh-savani/distilbert-base-uncased-go-emotion\")\n",
    "model = AutoModelForSequenceClassification.from_pretrained(\"bhadresh-savani/distilbert-base-uncased-go-emotion\")\n",
    "\n",
    "# Define emotion labels based on the GoEmotions dataset\n",
    "emotion_labels = [\n",
    "    \"admiration\", \"amusement\", \"anger\", \"annoyance\", \"approval\", \"caring\", \"confusion\", \"curiosity\",\n",
    "    \"desire\", \"disappointment\", \"disapproval\", \"disgust\", \"embarrassment\", \"excitement\", \n",
    "    \"gratitude\", \"grief\", \"joy\", \"love\", \"nervousness\", \"optimism\", \"pride\", \"realization\", \"relief\",\n",
    "    \"remorse\", \"sadness\", \"surprise\", \"neutral\"\n",
    "]\n",
    "\n",
    "def classify_emotions(text):\n",
    "    # Tokenize the input text\n",
    "    inputs = tokenizer(text, return_tensors=\"pt\", truncation=True)\n",
    "\n",
    "    # Get model predictions\n",
    "    with torch.no_grad():\n",
    "        outputs = model(**inputs)\n",
    "\n",
    "    # Convert logits to probabilities\n",
    "    probabilities = torch.softmax(outputs.logits, dim=-1)[0].numpy()\n",
    "    probabilities = np.delete(probabilities, 14)  # Remove \"fear\" probability\n",
    "\n",
    "\n",
    "    # Get the top emotion prediction\n",
    "    top_emotion_idx = np.argmax(probabilities)\n",
    "    top_emotion = emotion_labels[top_emotion_idx]\n",
    "    top_probability = probabilities[top_emotion_idx]\n",
    "\n",
    "    return top_emotion, top_probability\n",
    "    \n",
    "#-----------------------------------------------------\n",
    "\n",
    "headlines=  random.sample( df[\"entry_title\"].tolist(), 15) \n",
    "# Loop through headlines and classify each one\n",
    "results = []\n",
    "for headline in headlines:\n",
    "    emotion, score = classify_emotions(headline)\n",
    "    results.append({\n",
    "        \"headline\": headline,\n",
    "        \"predicted_emotion\": emotion,\n",
    "        \"emotion_score\": round(score, 2)\n",
    "    })\n",
    "    \n",
    "for dict in results:\n",
    "    for key,value in dict.items():\n",
    "        print(f\"{key}: {value}\")\n",
    "    print()\n",
    "        \n"
   ]
  }
 ],
 "metadata": {
  "kernelspec": {
   "display_name": "Python 3 (ipykernel)",
   "language": "python",
   "name": "python3"
  },
  "language_info": {
   "codemirror_mode": {
    "name": "ipython",
    "version": 3
   },
   "file_extension": ".py",
   "mimetype": "text/x-python",
   "name": "python",
   "nbconvert_exporter": "python",
   "pygments_lexer": "ipython3",
   "version": "3.12.4"
  }
 },
 "nbformat": 4,
 "nbformat_minor": 5
}
